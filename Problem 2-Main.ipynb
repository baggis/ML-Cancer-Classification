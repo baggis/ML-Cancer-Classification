{
 "cells": [
  {
   "cell_type": "markdown",
   "metadata": {},
   "source": [
    "# Problem 2: Machine Learning "
   ]
  },
  {
   "cell_type": "code",
   "execution_count": 90,
   "metadata": {},
   "outputs": [],
   "source": [
    "#import Library\n",
    "import pandas as pd\n",
    "import numpy as np\n",
    "from matplotlib import pyplot as plt\n",
    "from sklearn.linear_model import LogisticRegression\n",
    "from sklearn.ensemble import RandomForestClassifier\n",
    "from sklearn.svm import SVC\n",
    "from sklearn.preprocessing import StandardScaler\n",
    "from sklearn.decomposition import PCA\n",
    "from sklearn.model_selection import StratifiedKFold\n",
    "import seaborn as sns"
   ]
  },
  {
   "cell_type": "code",
   "execution_count": 91,
   "metadata": {
    "scrolled": true
   },
   "outputs": [],
   "source": [
    "#Read the Dataset for train_data and train_label\n",
    "data=pd.read_csv('train_data.tsv', delimiter='\\t',index_col=0)\n",
    "data_label=pd.read_csv('train_label.tsv',delimiter='\\t',index_col=0)"
   ]
  },
  {
   "cell_type": "code",
   "execution_count": 92,
   "metadata": {
    "scrolled": true
   },
   "outputs": [
    {
     "data": {
      "text/html": [
       "<div>\n",
       "<style scoped>\n",
       "    .dataframe tbody tr th:only-of-type {\n",
       "        vertical-align: middle;\n",
       "    }\n",
       "\n",
       "    .dataframe tbody tr th {\n",
       "        vertical-align: top;\n",
       "    }\n",
       "\n",
       "    .dataframe thead th {\n",
       "        text-align: right;\n",
       "    }\n",
       "</style>\n",
       "<table border=\"1\" class=\"dataframe\">\n",
       "  <thead>\n",
       "    <tr style=\"text-align: right;\">\n",
       "      <th></th>\n",
       "      <th>S1186</th>\n",
       "      <th>S1187</th>\n",
       "      <th>S1188</th>\n",
       "      <th>S1189</th>\n",
       "      <th>S1190</th>\n",
       "      <th>S1191</th>\n",
       "      <th>S1193</th>\n",
       "      <th>S1194</th>\n",
       "      <th>S1195</th>\n",
       "      <th>S1196</th>\n",
       "      <th>...</th>\n",
       "      <th>S990</th>\n",
       "      <th>S991</th>\n",
       "      <th>S992</th>\n",
       "      <th>S993</th>\n",
       "      <th>S994</th>\n",
       "      <th>S995</th>\n",
       "      <th>S996</th>\n",
       "      <th>S997</th>\n",
       "      <th>S998</th>\n",
       "      <th>S999</th>\n",
       "    </tr>\n",
       "  </thead>\n",
       "  <tbody>\n",
       "    <tr>\n",
       "      <th>A1BG</th>\n",
       "      <td>5.95</td>\n",
       "      <td>5.54</td>\n",
       "      <td>6.76</td>\n",
       "      <td>9.39</td>\n",
       "      <td>7.18</td>\n",
       "      <td>7.52</td>\n",
       "      <td>6.38</td>\n",
       "      <td>5.78</td>\n",
       "      <td>7.06</td>\n",
       "      <td>6.84</td>\n",
       "      <td>...</td>\n",
       "      <td>7.74</td>\n",
       "      <td>7.31</td>\n",
       "      <td>6.67</td>\n",
       "      <td>6.14</td>\n",
       "      <td>5.06</td>\n",
       "      <td>6.36</td>\n",
       "      <td>4.70</td>\n",
       "      <td>6.81</td>\n",
       "      <td>4.11</td>\n",
       "      <td>2.73</td>\n",
       "    </tr>\n",
       "    <tr>\n",
       "      <th>A1CF</th>\n",
       "      <td>0.00</td>\n",
       "      <td>0.45</td>\n",
       "      <td>0.00</td>\n",
       "      <td>0.00</td>\n",
       "      <td>0.00</td>\n",
       "      <td>0.00</td>\n",
       "      <td>0.00</td>\n",
       "      <td>0.00</td>\n",
       "      <td>0.00</td>\n",
       "      <td>0.00</td>\n",
       "      <td>...</td>\n",
       "      <td>0.00</td>\n",
       "      <td>0.00</td>\n",
       "      <td>0.00</td>\n",
       "      <td>5.33</td>\n",
       "      <td>0.00</td>\n",
       "      <td>0.00</td>\n",
       "      <td>7.55</td>\n",
       "      <td>0.00</td>\n",
       "      <td>8.73</td>\n",
       "      <td>7.99</td>\n",
       "    </tr>\n",
       "    <tr>\n",
       "      <th>A2M</th>\n",
       "      <td>12.67</td>\n",
       "      <td>13.09</td>\n",
       "      <td>14.00</td>\n",
       "      <td>12.97</td>\n",
       "      <td>17.84</td>\n",
       "      <td>13.58</td>\n",
       "      <td>13.52</td>\n",
       "      <td>12.83</td>\n",
       "      <td>12.32</td>\n",
       "      <td>13.55</td>\n",
       "      <td>...</td>\n",
       "      <td>16.44</td>\n",
       "      <td>13.81</td>\n",
       "      <td>13.06</td>\n",
       "      <td>15.40</td>\n",
       "      <td>13.84</td>\n",
       "      <td>13.13</td>\n",
       "      <td>15.14</td>\n",
       "      <td>14.85</td>\n",
       "      <td>14.45</td>\n",
       "      <td>15.42</td>\n",
       "    </tr>\n",
       "    <tr>\n",
       "      <th>A2ML1</th>\n",
       "      <td>10.51</td>\n",
       "      <td>1.07</td>\n",
       "      <td>1.11</td>\n",
       "      <td>0.00</td>\n",
       "      <td>1.67</td>\n",
       "      <td>1.70</td>\n",
       "      <td>0.00</td>\n",
       "      <td>8.77</td>\n",
       "      <td>0.75</td>\n",
       "      <td>1.52</td>\n",
       "      <td>...</td>\n",
       "      <td>0.82</td>\n",
       "      <td>7.15</td>\n",
       "      <td>0.88</td>\n",
       "      <td>0.79</td>\n",
       "      <td>0.00</td>\n",
       "      <td>1.38</td>\n",
       "      <td>0.40</td>\n",
       "      <td>4.85</td>\n",
       "      <td>0.00</td>\n",
       "      <td>0.00</td>\n",
       "    </tr>\n",
       "    <tr>\n",
       "      <th>A4GALT</th>\n",
       "      <td>6.08</td>\n",
       "      <td>7.56</td>\n",
       "      <td>8.34</td>\n",
       "      <td>6.47</td>\n",
       "      <td>6.75</td>\n",
       "      <td>9.21</td>\n",
       "      <td>6.68</td>\n",
       "      <td>7.56</td>\n",
       "      <td>6.20</td>\n",
       "      <td>6.35</td>\n",
       "      <td>...</td>\n",
       "      <td>9.65</td>\n",
       "      <td>8.41</td>\n",
       "      <td>6.62</td>\n",
       "      <td>9.60</td>\n",
       "      <td>9.07</td>\n",
       "      <td>8.30</td>\n",
       "      <td>10.54</td>\n",
       "      <td>8.05</td>\n",
       "      <td>10.92</td>\n",
       "      <td>9.24</td>\n",
       "    </tr>\n",
       "  </tbody>\n",
       "</table>\n",
       "<p>5 rows × 1845 columns</p>\n",
       "</div>"
      ],
      "text/plain": [
       "        S1186  S1187  S1188  S1189  S1190  S1191  S1193  S1194  S1195  S1196  \\\n",
       "A1BG     5.95   5.54   6.76   9.39   7.18   7.52   6.38   5.78   7.06   6.84   \n",
       "A1CF     0.00   0.45   0.00   0.00   0.00   0.00   0.00   0.00   0.00   0.00   \n",
       "A2M     12.67  13.09  14.00  12.97  17.84  13.58  13.52  12.83  12.32  13.55   \n",
       "A2ML1   10.51   1.07   1.11   0.00   1.67   1.70   0.00   8.77   0.75   1.52   \n",
       "A4GALT   6.08   7.56   8.34   6.47   6.75   9.21   6.68   7.56   6.20   6.35   \n",
       "\n",
       "        ...   S990   S991   S992   S993   S994   S995   S996   S997   S998  \\\n",
       "A1BG    ...   7.74   7.31   6.67   6.14   5.06   6.36   4.70   6.81   4.11   \n",
       "A1CF    ...   0.00   0.00   0.00   5.33   0.00   0.00   7.55   0.00   8.73   \n",
       "A2M     ...  16.44  13.81  13.06  15.40  13.84  13.13  15.14  14.85  14.45   \n",
       "A2ML1   ...   0.82   7.15   0.88   0.79   0.00   1.38   0.40   4.85   0.00   \n",
       "A4GALT  ...   9.65   8.41   6.62   9.60   9.07   8.30  10.54   8.05  10.92   \n",
       "\n",
       "         S999  \n",
       "A1BG     2.73  \n",
       "A1CF     7.99  \n",
       "A2M     15.42  \n",
       "A2ML1    0.00  \n",
       "A4GALT   9.24  \n",
       "\n",
       "[5 rows x 1845 columns]"
      ]
     },
     "execution_count": 92,
     "metadata": {},
     "output_type": "execute_result"
    }
   ],
   "source": [
    "data.head()"
   ]
  },
  {
   "cell_type": "code",
   "execution_count": 93,
   "metadata": {
    "scrolled": true
   },
   "outputs": [
    {
     "data": {
      "text/plain": [
       "S1186    breast invasive carcinoma\n",
       "S1187    breast invasive carcinoma\n",
       "S1188    breast invasive carcinoma\n",
       "S1189    breast invasive carcinoma\n",
       "S1190    breast invasive carcinoma\n",
       "Name: X_primary_disease, dtype: object"
      ]
     },
     "execution_count": 93,
     "metadata": {},
     "output_type": "execute_result"
    }
   ],
   "source": [
    "#Extract the X_primary Disease column from the train_label and name it labels\n",
    "labels=data_label['X_primary_disease']\n",
    "labels.head()"
   ]
  },
  {
   "cell_type": "code",
   "execution_count": 94,
   "metadata": {
    "scrolled": false
   },
   "outputs": [
    {
     "data": {
      "text/html": [
       "<div>\n",
       "<style scoped>\n",
       "    .dataframe tbody tr th:only-of-type {\n",
       "        vertical-align: middle;\n",
       "    }\n",
       "\n",
       "    .dataframe tbody tr th {\n",
       "        vertical-align: top;\n",
       "    }\n",
       "\n",
       "    .dataframe thead th {\n",
       "        text-align: right;\n",
       "    }\n",
       "</style>\n",
       "<table border=\"1\" class=\"dataframe\">\n",
       "  <thead>\n",
       "    <tr style=\"text-align: right;\">\n",
       "      <th></th>\n",
       "      <th>A1BG</th>\n",
       "      <th>A1CF</th>\n",
       "      <th>A2M</th>\n",
       "      <th>A2ML1</th>\n",
       "      <th>A4GALT</th>\n",
       "      <th>A4GNT</th>\n",
       "      <th>AAAS</th>\n",
       "      <th>AACS</th>\n",
       "      <th>AADAC</th>\n",
       "      <th>AADACL2</th>\n",
       "      <th>...</th>\n",
       "      <th>ZWILCH</th>\n",
       "      <th>ZWINT</th>\n",
       "      <th>ZXDA</th>\n",
       "      <th>ZXDB</th>\n",
       "      <th>ZXDC</th>\n",
       "      <th>ZYG11A</th>\n",
       "      <th>ZYG11B</th>\n",
       "      <th>ZYX</th>\n",
       "      <th>ZZEF1</th>\n",
       "      <th>ZZZ3</th>\n",
       "    </tr>\n",
       "  </thead>\n",
       "  <tbody>\n",
       "    <tr>\n",
       "      <th>S1186</th>\n",
       "      <td>5.95</td>\n",
       "      <td>0.00</td>\n",
       "      <td>12.67</td>\n",
       "      <td>10.51</td>\n",
       "      <td>6.08</td>\n",
       "      <td>1.36</td>\n",
       "      <td>8.94</td>\n",
       "      <td>9.10</td>\n",
       "      <td>0.00</td>\n",
       "      <td>0.0</td>\n",
       "      <td>...</td>\n",
       "      <td>9.31</td>\n",
       "      <td>9.96</td>\n",
       "      <td>5.25</td>\n",
       "      <td>8.17</td>\n",
       "      <td>9.44</td>\n",
       "      <td>7.35</td>\n",
       "      <td>9.44</td>\n",
       "      <td>11.56</td>\n",
       "      <td>10.37</td>\n",
       "      <td>10.20</td>\n",
       "    </tr>\n",
       "    <tr>\n",
       "      <th>S1187</th>\n",
       "      <td>5.54</td>\n",
       "      <td>0.45</td>\n",
       "      <td>13.09</td>\n",
       "      <td>1.07</td>\n",
       "      <td>7.56</td>\n",
       "      <td>1.30</td>\n",
       "      <td>8.87</td>\n",
       "      <td>9.69</td>\n",
       "      <td>1.84</td>\n",
       "      <td>0.0</td>\n",
       "      <td>...</td>\n",
       "      <td>8.96</td>\n",
       "      <td>10.21</td>\n",
       "      <td>5.83</td>\n",
       "      <td>9.10</td>\n",
       "      <td>10.39</td>\n",
       "      <td>6.54</td>\n",
       "      <td>9.18</td>\n",
       "      <td>11.64</td>\n",
       "      <td>9.22</td>\n",
       "      <td>8.84</td>\n",
       "    </tr>\n",
       "    <tr>\n",
       "      <th>S1188</th>\n",
       "      <td>6.76</td>\n",
       "      <td>0.00</td>\n",
       "      <td>14.00</td>\n",
       "      <td>1.11</td>\n",
       "      <td>8.34</td>\n",
       "      <td>1.55</td>\n",
       "      <td>9.20</td>\n",
       "      <td>9.94</td>\n",
       "      <td>0.00</td>\n",
       "      <td>0.0</td>\n",
       "      <td>...</td>\n",
       "      <td>8.52</td>\n",
       "      <td>8.84</td>\n",
       "      <td>6.94</td>\n",
       "      <td>9.98</td>\n",
       "      <td>10.36</td>\n",
       "      <td>2.03</td>\n",
       "      <td>9.37</td>\n",
       "      <td>11.51</td>\n",
       "      <td>11.06</td>\n",
       "      <td>11.17</td>\n",
       "    </tr>\n",
       "    <tr>\n",
       "      <th>S1189</th>\n",
       "      <td>9.39</td>\n",
       "      <td>0.00</td>\n",
       "      <td>12.97</td>\n",
       "      <td>0.00</td>\n",
       "      <td>6.47</td>\n",
       "      <td>0.00</td>\n",
       "      <td>9.97</td>\n",
       "      <td>10.20</td>\n",
       "      <td>0.54</td>\n",
       "      <td>0.0</td>\n",
       "      <td>...</td>\n",
       "      <td>9.78</td>\n",
       "      <td>8.92</td>\n",
       "      <td>5.13</td>\n",
       "      <td>8.40</td>\n",
       "      <td>10.35</td>\n",
       "      <td>5.70</td>\n",
       "      <td>9.53</td>\n",
       "      <td>11.29</td>\n",
       "      <td>9.55</td>\n",
       "      <td>9.25</td>\n",
       "    </tr>\n",
       "    <tr>\n",
       "      <th>S1190</th>\n",
       "      <td>7.18</td>\n",
       "      <td>0.00</td>\n",
       "      <td>17.84</td>\n",
       "      <td>1.67</td>\n",
       "      <td>6.75</td>\n",
       "      <td>2.60</td>\n",
       "      <td>8.50</td>\n",
       "      <td>9.54</td>\n",
       "      <td>0.00</td>\n",
       "      <td>0.0</td>\n",
       "      <td>...</td>\n",
       "      <td>8.73</td>\n",
       "      <td>9.72</td>\n",
       "      <td>6.13</td>\n",
       "      <td>9.11</td>\n",
       "      <td>10.76</td>\n",
       "      <td>6.20</td>\n",
       "      <td>10.13</td>\n",
       "      <td>13.38</td>\n",
       "      <td>9.50</td>\n",
       "      <td>10.22</td>\n",
       "    </tr>\n",
       "  </tbody>\n",
       "</table>\n",
       "<p>5 rows × 16340 columns</p>\n",
       "</div>"
      ],
      "text/plain": [
       "       A1BG  A1CF    A2M  A2ML1  A4GALT  A4GNT  AAAS   AACS  AADAC  AADACL2  \\\n",
       "S1186  5.95  0.00  12.67  10.51    6.08   1.36  8.94   9.10   0.00      0.0   \n",
       "S1187  5.54  0.45  13.09   1.07    7.56   1.30  8.87   9.69   1.84      0.0   \n",
       "S1188  6.76  0.00  14.00   1.11    8.34   1.55  9.20   9.94   0.00      0.0   \n",
       "S1189  9.39  0.00  12.97   0.00    6.47   0.00  9.97  10.20   0.54      0.0   \n",
       "S1190  7.18  0.00  17.84   1.67    6.75   2.60  8.50   9.54   0.00      0.0   \n",
       "\n",
       "       ...  ZWILCH  ZWINT  ZXDA  ZXDB   ZXDC  ZYG11A  ZYG11B    ZYX  ZZEF1  \\\n",
       "S1186  ...    9.31   9.96  5.25  8.17   9.44    7.35    9.44  11.56  10.37   \n",
       "S1187  ...    8.96  10.21  5.83  9.10  10.39    6.54    9.18  11.64   9.22   \n",
       "S1188  ...    8.52   8.84  6.94  9.98  10.36    2.03    9.37  11.51  11.06   \n",
       "S1189  ...    9.78   8.92  5.13  8.40  10.35    5.70    9.53  11.29   9.55   \n",
       "S1190  ...    8.73   9.72  6.13  9.11  10.76    6.20   10.13  13.38   9.50   \n",
       "\n",
       "        ZZZ3  \n",
       "S1186  10.20  \n",
       "S1187   8.84  \n",
       "S1188  11.17  \n",
       "S1189   9.25  \n",
       "S1190  10.22  \n",
       "\n",
       "[5 rows x 16340 columns]"
      ]
     },
     "execution_count": 94,
     "metadata": {},
     "output_type": "execute_result"
    }
   ],
   "source": [
    "data_new=data.T\n",
    "data_new.head()"
   ]
  },
  {
   "cell_type": "code",
   "execution_count": 95,
   "metadata": {
    "scrolled": true
   },
   "outputs": [],
   "source": [
    "data_new['labels']=labels"
   ]
  },
  {
   "cell_type": "markdown",
   "metadata": {},
   "source": [
    "# Encoding of the X_primary_diseases\n",
    "'breast invasive carcinoma':0, 'kidney clear cell carcinoma':1, 'lung adenocarcinoma':2"
   ]
  },
  {
   "cell_type": "code",
   "execution_count": 96,
   "metadata": {
    "scrolled": true
   },
   "outputs": [
    {
     "data": {
      "text/html": [
       "<div>\n",
       "<style scoped>\n",
       "    .dataframe tbody tr th:only-of-type {\n",
       "        vertical-align: middle;\n",
       "    }\n",
       "\n",
       "    .dataframe tbody tr th {\n",
       "        vertical-align: top;\n",
       "    }\n",
       "\n",
       "    .dataframe thead th {\n",
       "        text-align: right;\n",
       "    }\n",
       "</style>\n",
       "<table border=\"1\" class=\"dataframe\">\n",
       "  <thead>\n",
       "    <tr style=\"text-align: right;\">\n",
       "      <th></th>\n",
       "      <th>A1BG</th>\n",
       "      <th>A1CF</th>\n",
       "      <th>A2M</th>\n",
       "      <th>A2ML1</th>\n",
       "      <th>A4GALT</th>\n",
       "      <th>A4GNT</th>\n",
       "      <th>AAAS</th>\n",
       "      <th>AACS</th>\n",
       "      <th>AADAC</th>\n",
       "      <th>AADACL2</th>\n",
       "      <th>...</th>\n",
       "      <th>ZXDA</th>\n",
       "      <th>ZXDB</th>\n",
       "      <th>ZXDC</th>\n",
       "      <th>ZYG11A</th>\n",
       "      <th>ZYG11B</th>\n",
       "      <th>ZYX</th>\n",
       "      <th>ZZEF1</th>\n",
       "      <th>ZZZ3</th>\n",
       "      <th>labels</th>\n",
       "      <th>encoded_label</th>\n",
       "    </tr>\n",
       "  </thead>\n",
       "  <tbody>\n",
       "    <tr>\n",
       "      <th>S1186</th>\n",
       "      <td>5.95</td>\n",
       "      <td>0.00</td>\n",
       "      <td>12.67</td>\n",
       "      <td>10.51</td>\n",
       "      <td>6.08</td>\n",
       "      <td>1.36</td>\n",
       "      <td>8.94</td>\n",
       "      <td>9.10</td>\n",
       "      <td>0.00</td>\n",
       "      <td>0.0</td>\n",
       "      <td>...</td>\n",
       "      <td>5.25</td>\n",
       "      <td>8.17</td>\n",
       "      <td>9.44</td>\n",
       "      <td>7.35</td>\n",
       "      <td>9.44</td>\n",
       "      <td>11.56</td>\n",
       "      <td>10.37</td>\n",
       "      <td>10.20</td>\n",
       "      <td>breast invasive carcinoma</td>\n",
       "      <td>0</td>\n",
       "    </tr>\n",
       "    <tr>\n",
       "      <th>S1187</th>\n",
       "      <td>5.54</td>\n",
       "      <td>0.45</td>\n",
       "      <td>13.09</td>\n",
       "      <td>1.07</td>\n",
       "      <td>7.56</td>\n",
       "      <td>1.30</td>\n",
       "      <td>8.87</td>\n",
       "      <td>9.69</td>\n",
       "      <td>1.84</td>\n",
       "      <td>0.0</td>\n",
       "      <td>...</td>\n",
       "      <td>5.83</td>\n",
       "      <td>9.10</td>\n",
       "      <td>10.39</td>\n",
       "      <td>6.54</td>\n",
       "      <td>9.18</td>\n",
       "      <td>11.64</td>\n",
       "      <td>9.22</td>\n",
       "      <td>8.84</td>\n",
       "      <td>breast invasive carcinoma</td>\n",
       "      <td>0</td>\n",
       "    </tr>\n",
       "    <tr>\n",
       "      <th>S1188</th>\n",
       "      <td>6.76</td>\n",
       "      <td>0.00</td>\n",
       "      <td>14.00</td>\n",
       "      <td>1.11</td>\n",
       "      <td>8.34</td>\n",
       "      <td>1.55</td>\n",
       "      <td>9.20</td>\n",
       "      <td>9.94</td>\n",
       "      <td>0.00</td>\n",
       "      <td>0.0</td>\n",
       "      <td>...</td>\n",
       "      <td>6.94</td>\n",
       "      <td>9.98</td>\n",
       "      <td>10.36</td>\n",
       "      <td>2.03</td>\n",
       "      <td>9.37</td>\n",
       "      <td>11.51</td>\n",
       "      <td>11.06</td>\n",
       "      <td>11.17</td>\n",
       "      <td>breast invasive carcinoma</td>\n",
       "      <td>0</td>\n",
       "    </tr>\n",
       "    <tr>\n",
       "      <th>S1189</th>\n",
       "      <td>9.39</td>\n",
       "      <td>0.00</td>\n",
       "      <td>12.97</td>\n",
       "      <td>0.00</td>\n",
       "      <td>6.47</td>\n",
       "      <td>0.00</td>\n",
       "      <td>9.97</td>\n",
       "      <td>10.20</td>\n",
       "      <td>0.54</td>\n",
       "      <td>0.0</td>\n",
       "      <td>...</td>\n",
       "      <td>5.13</td>\n",
       "      <td>8.40</td>\n",
       "      <td>10.35</td>\n",
       "      <td>5.70</td>\n",
       "      <td>9.53</td>\n",
       "      <td>11.29</td>\n",
       "      <td>9.55</td>\n",
       "      <td>9.25</td>\n",
       "      <td>breast invasive carcinoma</td>\n",
       "      <td>0</td>\n",
       "    </tr>\n",
       "    <tr>\n",
       "      <th>S1190</th>\n",
       "      <td>7.18</td>\n",
       "      <td>0.00</td>\n",
       "      <td>17.84</td>\n",
       "      <td>1.67</td>\n",
       "      <td>6.75</td>\n",
       "      <td>2.60</td>\n",
       "      <td>8.50</td>\n",
       "      <td>9.54</td>\n",
       "      <td>0.00</td>\n",
       "      <td>0.0</td>\n",
       "      <td>...</td>\n",
       "      <td>6.13</td>\n",
       "      <td>9.11</td>\n",
       "      <td>10.76</td>\n",
       "      <td>6.20</td>\n",
       "      <td>10.13</td>\n",
       "      <td>13.38</td>\n",
       "      <td>9.50</td>\n",
       "      <td>10.22</td>\n",
       "      <td>breast invasive carcinoma</td>\n",
       "      <td>0</td>\n",
       "    </tr>\n",
       "  </tbody>\n",
       "</table>\n",
       "<p>5 rows × 16342 columns</p>\n",
       "</div>"
      ],
      "text/plain": [
       "       A1BG  A1CF    A2M  A2ML1  A4GALT  A4GNT  AAAS   AACS  AADAC  AADACL2  \\\n",
       "S1186  5.95  0.00  12.67  10.51    6.08   1.36  8.94   9.10   0.00      0.0   \n",
       "S1187  5.54  0.45  13.09   1.07    7.56   1.30  8.87   9.69   1.84      0.0   \n",
       "S1188  6.76  0.00  14.00   1.11    8.34   1.55  9.20   9.94   0.00      0.0   \n",
       "S1189  9.39  0.00  12.97   0.00    6.47   0.00  9.97  10.20   0.54      0.0   \n",
       "S1190  7.18  0.00  17.84   1.67    6.75   2.60  8.50   9.54   0.00      0.0   \n",
       "\n",
       "       ...  ZXDA  ZXDB   ZXDC  ZYG11A  ZYG11B    ZYX  ZZEF1   ZZZ3  \\\n",
       "S1186  ...  5.25  8.17   9.44    7.35    9.44  11.56  10.37  10.20   \n",
       "S1187  ...  5.83  9.10  10.39    6.54    9.18  11.64   9.22   8.84   \n",
       "S1188  ...  6.94  9.98  10.36    2.03    9.37  11.51  11.06  11.17   \n",
       "S1189  ...  5.13  8.40  10.35    5.70    9.53  11.29   9.55   9.25   \n",
       "S1190  ...  6.13  9.11  10.76    6.20   10.13  13.38   9.50  10.22   \n",
       "\n",
       "                          labels  encoded_label  \n",
       "S1186  breast invasive carcinoma              0  \n",
       "S1187  breast invasive carcinoma              0  \n",
       "S1188  breast invasive carcinoma              0  \n",
       "S1189  breast invasive carcinoma              0  \n",
       "S1190  breast invasive carcinoma              0  \n",
       "\n",
       "[5 rows x 16342 columns]"
      ]
     },
     "execution_count": 96,
     "metadata": {},
     "output_type": "execute_result"
    }
   ],
   "source": [
    "data_new['encoded_label']=data_new['labels'].map({'breast invasive carcinoma':0,'kidney clear cell carcinoma':1,'lung adenocarcinoma':2})\n",
    "data_new.head()"
   ]
  },
  {
   "cell_type": "code",
   "execution_count": 97,
   "metadata": {},
   "outputs": [],
   "source": [
    "data_new.drop('labels', axis=1, inplace=True)"
   ]
  },
  {
   "cell_type": "code",
   "execution_count": 98,
   "metadata": {},
   "outputs": [
    {
     "data": {
      "text/plain": [
       "array([0, 1, 2], dtype=int64)"
      ]
     },
     "execution_count": 98,
     "metadata": {},
     "output_type": "execute_result"
    }
   ],
   "source": [
    "#Check Uniqueness of encoded_label column\n",
    "data_new['encoded_label'].unique()"
   ]
  },
  {
   "cell_type": "code",
   "execution_count": 99,
   "metadata": {},
   "outputs": [],
   "source": [
    "#Extracting features and target\n",
    "features=data_new.drop('encoded_label', axis=1)\n",
    "target=data_new.encoded_label"
   ]
  },
  {
   "cell_type": "code",
   "execution_count": 100,
   "metadata": {},
   "outputs": [],
   "source": [
    "from sklearn.preprocessing import StandardScaler\n",
    "Scaler=StandardScaler()\n",
    "feature_scaled=scaler.fit_transform(features)"
   ]
  },
  {
   "cell_type": "code",
   "execution_count": 146,
   "metadata": {},
   "outputs": [
    {
     "data": {
      "text/plain": [
       "(1845, 214)"
      ]
     },
     "execution_count": 146,
     "metadata": {},
     "output_type": "execute_result"
    }
   ],
   "source": [
    "# Perform dimensinality reduction on the test data using Principal Component Analysis\n",
    "pca=PCA(n_components=214)\n",
    "feature_reduction=pca.fit_transform(feature_scaled)\n",
    "feature_reduction.shape"
   ]
  },
  {
   "cell_type": "code",
   "execution_count": 147,
   "metadata": {},
   "outputs": [],
   "source": [
    "from sklearn.model_selection import train_test_split\n",
    "X_train,X_test,y_train,y_test=train_test_split(feature_reduction,target, test_size=0.3)"
   ]
  },
  {
   "cell_type": "code",
   "execution_count": 148,
   "metadata": {},
   "outputs": [
    {
     "data": {
      "text/plain": [
       "0.5342960288808665"
      ]
     },
     "execution_count": 148,
     "metadata": {},
     "output_type": "execute_result"
    }
   ],
   "source": [
    "clf=SVC(C=20,gamma='auto')\n",
    "clf.fit(X_train,y_train)\n",
    "clf.score(X_test,y_test)"
   ]
  },
  {
   "cell_type": "code",
   "execution_count": 149,
   "metadata": {},
   "outputs": [
    {
     "data": {
      "text/plain": [
       "0.9584837545126353"
      ]
     },
     "execution_count": 149,
     "metadata": {},
     "output_type": "execute_result"
    }
   ],
   "source": [
    "rf=RandomForestClassifier(n_estimators=40)\n",
    "rf.fit(X_train,y_train)\n",
    "rf.score(X_test,y_test)"
   ]
  },
  {
   "cell_type": "code",
   "execution_count": 150,
   "metadata": {},
   "outputs": [
    {
     "data": {
      "text/plain": [
       "0.9963898916967509"
      ]
     },
     "execution_count": 150,
     "metadata": {},
     "output_type": "execute_result"
    }
   ],
   "source": [
    "lr=LogisticRegression(max_iter=1000)\n",
    "lr.fit(X_train,y_train)\n",
    "lr.score(X_test,y_test)"
   ]
  },
  {
   "cell_type": "code",
   "execution_count": 170,
   "metadata": {
    "scrolled": true
   },
   "outputs": [],
   "source": [
    "y_pred=lr.predict(X_test)"
   ]
  },
  {
   "cell_type": "code",
   "execution_count": 171,
   "metadata": {},
   "outputs": [
    {
     "data": {
      "text/plain": [
       "array([[296,   0,   0],\n",
       "       [  0, 132,   1],\n",
       "       [  1,   0, 124]], dtype=int64)"
      ]
     },
     "execution_count": 171,
     "metadata": {},
     "output_type": "execute_result"
    }
   ],
   "source": [
    "from sklearn.metrics import confusion_matrix\n",
    "cm=confusion_matrix(y_test,y_pred)\n",
    "cm"
   ]
  },
  {
   "cell_type": "code",
   "execution_count": 172,
   "metadata": {},
   "outputs": [
    {
     "data": {
      "text/plain": [
       "Text(69.0, 0.5, 'Truth')"
      ]
     },
     "execution_count": 172,
     "metadata": {},
     "output_type": "execute_result"
    },
    {
     "data": {
      "image/png": "[encoded data removed]",
      "text/plain": [
       "<Figure size 720x504 with 2 Axes>"
      ]
     },
     "metadata": {
      "needs_background": "light"
     },
     "output_type": "display_data"
    }
   ],
   "source": [
    "plt.figure(figsize=(10,7))\n",
    "sns.heatmap(cm, annot=True)\n",
    "plt.xlabel('predicted')\n",
    "plt.ylabel('Truth')"
   ]
  },
  {
   "cell_type": "code",
   "execution_count": 173,
   "metadata": {},
   "outputs": [
    {
     "data": {
      "text/plain": [
       "StratifiedKFold(n_splits=3, random_state=None, shuffle=False)"
      ]
     },
     "execution_count": 173,
     "metadata": {},
     "output_type": "execute_result"
    }
   ],
   "source": [
    "folds=StratifiedKFold(n_splits=3)\n",
    "folds"
   ]
  },
  {
   "cell_type": "code",
   "execution_count": 174,
   "metadata": {},
   "outputs": [],
   "source": [
    "from sklearn.model_selection import cross_val_score"
   ]
  },
  {
   "cell_type": "code",
   "execution_count": 175,
   "metadata": {},
   "outputs": [
    {
     "data": {
      "text/plain": [
       "array([0.99837398, 0.99512195, 0.99837398])"
      ]
     },
     "execution_count": 175,
     "metadata": {},
     "output_type": "execute_result"
    }
   ],
   "source": [
    "cross_val_score(LogisticRegression(max_iter=1000),feature_scaled,target,cv=3)"
   ]
  },
  {
   "cell_type": "code",
   "execution_count": 176,
   "metadata": {},
   "outputs": [
    {
     "data": {
      "text/plain": [
       "array([0.99349593, 0.99186992, 0.98861789])"
      ]
     },
     "execution_count": 176,
     "metadata": {},
     "output_type": "execute_result"
    }
   ],
   "source": [
    "cross_val_score(SVC(C=20),feature_scaled,target,cv=3)"
   ]
  },
  {
   "cell_type": "code",
   "execution_count": 177,
   "metadata": {},
   "outputs": [
    {
     "data": {
      "text/plain": [
       "array([0.99512195, 0.99186992, 0.99512195])"
      ]
     },
     "execution_count": 177,
     "metadata": {},
     "output_type": "execute_result"
    }
   ],
   "source": [
    "cross_val_score(RandomForestClassifier(n_estimators=40),feature_scaled,target,cv=3)"
   ]
  },
  {
   "cell_type": "code",
   "execution_count": 178,
   "metadata": {
    "scrolled": false
   },
   "outputs": [
    {
     "data": {
      "text/plain": [
       "(16340, 300)"
      ]
     },
     "execution_count": 178,
     "metadata": {},
     "output_type": "execute_result"
    }
   ],
   "source": [
    "#import of test data for the model\n",
    "test_data=pd.read_csv('test_data.tsv', delimiter='\\t', index_col=0)\n",
    "test_data.shape"
   ]
  },
  {
   "cell_type": "code",
   "execution_count": 179,
   "metadata": {
    "scrolled": true
   },
   "outputs": [
    {
     "data": {
      "text/plain": [
       "(300, 16340)"
      ]
     },
     "execution_count": 179,
     "metadata": {},
     "output_type": "execute_result"
    }
   ],
   "source": [
    "# Transpose test data as t_test_data\n",
    "t_test_data=test_data.T\n",
    "t_test_data.head()\n",
    "t_test_data.shape"
   ]
  },
  {
   "cell_type": "code",
   "execution_count": 180,
   "metadata": {},
   "outputs": [],
   "source": [
    "test_data_scaled=scaler.fit_transform(t_test_data)"
   ]
  },
  {
   "cell_type": "code",
   "execution_count": 181,
   "metadata": {},
   "outputs": [
    {
     "data": {
      "text/plain": [
       "(300, 214)"
      ]
     },
     "execution_count": 181,
     "metadata": {},
     "output_type": "execute_result"
    }
   ],
   "source": [
    "#Perform dimenstionality reduction on the test data using PCA\n",
    "test_data_reduction=pca.fit_transform(test_data_scaled)\n",
    "test_data_reduction.shape"
   ]
  },
  {
   "cell_type": "code",
   "execution_count": 185,
   "metadata": {},
   "outputs": [
    {
     "data": {
      "text/plain": [
       "array([0, 0, 2, 2, 0, 2, 2, 2, 0, 2, 2, 2, 2, 2, 2, 2, 1, 2, 2, 2, 0, 2,\n",
       "       2, 0, 2, 2, 2, 2, 2, 2, 0, 0, 2, 2, 2, 2, 0, 0, 0, 0, 2, 2, 2, 2,\n",
       "       2, 2, 0, 0, 0, 0, 2, 2, 2, 2, 2, 0, 2, 2, 2, 2, 2, 2, 0, 2, 2, 0,\n",
       "       2, 2, 2, 2, 2, 2, 0, 0, 0, 2, 2, 2, 0, 2, 2, 2, 2, 2, 2, 2, 2, 0,\n",
       "       2, 2, 2, 2, 2, 2, 2, 2, 2, 2, 2, 2, 1, 1, 1, 2, 1, 1, 2, 1, 1, 1,\n",
       "       1, 1, 1, 1, 1, 1, 1, 1, 1, 1, 1, 1, 1, 1, 1, 1, 0, 1, 1, 1, 1, 1,\n",
       "       1, 1, 1, 1, 1, 1, 1, 1, 1, 1, 1, 1, 1, 1, 1, 1, 2, 1, 1, 1, 1, 1,\n",
       "       1, 1, 1, 1, 1, 1, 1, 1, 1, 1, 1, 1, 0, 1, 1, 1, 1, 1, 1, 1, 1, 1,\n",
       "       1, 1, 1, 1, 1, 1, 1, 1, 1, 1, 1, 1, 1, 1, 1, 1, 1, 1, 1, 1, 1, 2,\n",
       "       1, 1, 0, 0, 0, 0, 0, 0, 0, 0, 0, 0, 0, 0, 0, 0, 0, 0, 0, 0, 0, 0,\n",
       "       0, 0, 0, 0, 0, 0, 0, 0, 0, 0, 0, 0, 0, 0, 0, 0, 0, 0, 0, 0, 0, 0,\n",
       "       0, 0, 0, 0, 0, 0, 0, 0, 0, 0, 0, 0, 0, 0, 0, 0, 0, 0, 0, 0, 0, 0,\n",
       "       0, 0, 0, 0, 0, 0, 0, 0, 0, 0, 0, 0, 0, 0, 0, 0, 0, 0, 0, 0, 0, 0,\n",
       "       0, 0, 0, 0, 0, 0, 0, 0, 0, 0, 0, 0, 0, 0], dtype=int64)"
      ]
     },
     "execution_count": 185,
     "metadata": {},
     "output_type": "execute_result"
    }
   ],
   "source": [
    "model_prediction=lr.predict(test_data_reduction)\n",
    "model_prediction"
   ]
  },
  {
   "cell_type": "code",
   "execution_count": 183,
   "metadata": {
    "scrolled": true
   },
   "outputs": [],
   "source": [
    "# Insert the Prediction to the test dataset\n",
    "t_test_data['predicted_level']=model_prediction"
   ]
  },
  {
   "cell_type": "code",
   "execution_count": 184,
   "metadata": {},
   "outputs": [],
   "source": [
    "t_test_data.to_csv('ML_predict.csv',index=True)"
   ]
  },
  {
   "cell_type": "code",
   "execution_count": 186,
   "metadata": {},
   "outputs": [],
   "source": [
    "test_data_predict=t_test_data.T"
   ]
  },
  {
   "cell_type": "code",
   "execution_count": 189,
   "metadata": {},
   "outputs": [],
   "source": [
    "test_data_predict.to_csv('ML_predict.csv',sep=',',index=True,encoding='utf-8')"
   ]
  }
 ],
 "metadata": {
  "kernelspec": {
   "display_name": "Python 3",
   "language": "python",
   "name": "python3"
  },
  "language_info": {
   "codemirror_mode": {
    "name": "ipython",
    "version": 3
   },
   "file_extension": ".py",
   "mimetype": "text/x-python",
   "name": "python",
   "nbconvert_exporter": "python",
   "pygments_lexer": "ipython3",
   "version": "3.8.5"
  }
 },
 "nbformat": 4,
 "nbformat_minor": 4
}
